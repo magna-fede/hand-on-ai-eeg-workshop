{
 "cells": [
  {
   "cell_type": "code",
   "execution_count": 7,
   "metadata": {},
   "outputs": [
    {
     "name": "stderr",
     "output_type": "stream",
     "text": [
      "C:\\Users\\magna\\AppData\\Local\\Temp\\ipykernel_37100\\2984762775.py:14: RuntimeWarning: Estimated head radius (11.5 cm) is above the 99th percentile for adult head size. Check if the montage_units argument is correct (the default is \"mm\", but your channel positions may be in different units).\n",
      "  epochs = mne.io.read_epochs_eeglab(f, verbose=False)  # FIR 1-40 Hz\n",
      "C:\\Users\\magna\\AppData\\Local\\Temp\\ipykernel_37100\\2984762775.py:14: RuntimeWarning: Estimated head radius (11.5 cm) is above the 99th percentile for adult head size. Check if the montage_units argument is correct (the default is \"mm\", but your channel positions may be in different units).\n",
      "  epochs = mne.io.read_epochs_eeglab(f, verbose=False)  # FIR 1-40 Hz\n",
      "C:\\Users\\magna\\AppData\\Local\\Temp\\ipykernel_37100\\2984762775.py:14: RuntimeWarning: Estimated head radius (11.5 cm) is above the 99th percentile for adult head size. Check if the montage_units argument is correct (the default is \"mm\", but your channel positions may be in different units).\n",
      "  epochs = mne.io.read_epochs_eeglab(f, verbose=False)  # FIR 1-40 Hz\n",
      "C:\\Users\\magna\\AppData\\Local\\Temp\\ipykernel_37100\\2984762775.py:14: RuntimeWarning: Estimated head radius (11.9 cm) is above the 99th percentile for adult head size. Check if the montage_units argument is correct (the default is \"mm\", but your channel positions may be in different units).\n",
      "  epochs = mne.io.read_epochs_eeglab(f, verbose=False)  # FIR 1-40 Hz\n",
      "C:\\Users\\magna\\AppData\\Local\\Temp\\ipykernel_37100\\2984762775.py:14: RuntimeWarning: Estimated head radius (11.9 cm) is above the 99th percentile for adult head size. Check if the montage_units argument is correct (the default is \"mm\", but your channel positions may be in different units).\n",
      "  epochs = mne.io.read_epochs_eeglab(f, verbose=False)  # FIR 1-40 Hz\n",
      "C:\\Users\\magna\\AppData\\Local\\Temp\\ipykernel_37100\\2984762775.py:14: RuntimeWarning: Estimated head radius (11.9 cm) is above the 99th percentile for adult head size. Check if the montage_units argument is correct (the default is \"mm\", but your channel positions may be in different units).\n",
      "  epochs = mne.io.read_epochs_eeglab(f, verbose=False)  # FIR 1-40 Hz\n",
      "C:\\Users\\magna\\AppData\\Local\\Temp\\ipykernel_37100\\2984762775.py:14: RuntimeWarning: Estimated head radius (11.5 cm) is above the 99th percentile for adult head size. Check if the montage_units argument is correct (the default is \"mm\", but your channel positions may be in different units).\n",
      "  epochs = mne.io.read_epochs_eeglab(f, verbose=False)  # FIR 1-40 Hz\n",
      "C:\\Users\\magna\\AppData\\Local\\Temp\\ipykernel_37100\\2984762775.py:14: RuntimeWarning: Estimated head radius (11.5 cm) is above the 99th percentile for adult head size. Check if the montage_units argument is correct (the default is \"mm\", but your channel positions may be in different units).\n",
      "  epochs = mne.io.read_epochs_eeglab(f, verbose=False)  # FIR 1-40 Hz\n",
      "C:\\Users\\magna\\AppData\\Local\\Temp\\ipykernel_37100\\2984762775.py:14: RuntimeWarning: Estimated head radius (11.5 cm) is above the 99th percentile for adult head size. Check if the montage_units argument is correct (the default is \"mm\", but your channel positions may be in different units).\n",
      "  epochs = mne.io.read_epochs_eeglab(f, verbose=False)  # FIR 1-40 Hz\n",
      "C:\\Users\\magna\\AppData\\Local\\Temp\\ipykernel_37100\\2984762775.py:14: RuntimeWarning: Estimated head radius (10.9 cm) is above the 99th percentile for adult head size. Check if the montage_units argument is correct (the default is \"mm\", but your channel positions may be in different units).\n",
      "  epochs = mne.io.read_epochs_eeglab(f, verbose=False)  # FIR 1-40 Hz\n",
      "C:\\Users\\magna\\AppData\\Local\\Temp\\ipykernel_37100\\2984762775.py:14: RuntimeWarning: Estimated head radius (10.9 cm) is above the 99th percentile for adult head size. Check if the montage_units argument is correct (the default is \"mm\", but your channel positions may be in different units).\n",
      "  epochs = mne.io.read_epochs_eeglab(f, verbose=False)  # FIR 1-40 Hz\n",
      "C:\\Users\\magna\\AppData\\Local\\Temp\\ipykernel_37100\\2984762775.py:14: RuntimeWarning: Estimated head radius (10.9 cm) is above the 99th percentile for adult head size. Check if the montage_units argument is correct (the default is \"mm\", but your channel positions may be in different units).\n",
      "  epochs = mne.io.read_epochs_eeglab(f, verbose=False)  # FIR 1-40 Hz\n",
      "C:\\Users\\magna\\AppData\\Local\\Temp\\ipykernel_37100\\2984762775.py:14: RuntimeWarning: Estimated head radius (11.3 cm) is above the 99th percentile for adult head size. Check if the montage_units argument is correct (the default is \"mm\", but your channel positions may be in different units).\n",
      "  epochs = mne.io.read_epochs_eeglab(f, verbose=False)  # FIR 1-40 Hz\n",
      "C:\\Users\\magna\\AppData\\Local\\Temp\\ipykernel_37100\\2984762775.py:14: RuntimeWarning: Estimated head radius (11.3 cm) is above the 99th percentile for adult head size. Check if the montage_units argument is correct (the default is \"mm\", but your channel positions may be in different units).\n",
      "  epochs = mne.io.read_epochs_eeglab(f, verbose=False)  # FIR 1-40 Hz\n",
      "C:\\Users\\magna\\AppData\\Local\\Temp\\ipykernel_37100\\2984762775.py:14: RuntimeWarning: Estimated head radius (11.3 cm) is above the 99th percentile for adult head size. Check if the montage_units argument is correct (the default is \"mm\", but your channel positions may be in different units).\n",
      "  epochs = mne.io.read_epochs_eeglab(f, verbose=False)  # FIR 1-40 Hz\n",
      "C:\\Users\\magna\\AppData\\Local\\Temp\\ipykernel_37100\\2984762775.py:14: RuntimeWarning: Estimated head radius (11.0 cm) is above the 99th percentile for adult head size. Check if the montage_units argument is correct (the default is \"mm\", but your channel positions may be in different units).\n",
      "  epochs = mne.io.read_epochs_eeglab(f, verbose=False)  # FIR 1-40 Hz\n",
      "C:\\Users\\magna\\AppData\\Local\\Temp\\ipykernel_37100\\2984762775.py:14: RuntimeWarning: Estimated head radius (11.0 cm) is above the 99th percentile for adult head size. Check if the montage_units argument is correct (the default is \"mm\", but your channel positions may be in different units).\n",
      "  epochs = mne.io.read_epochs_eeglab(f, verbose=False)  # FIR 1-40 Hz\n",
      "C:\\Users\\magna\\AppData\\Local\\Temp\\ipykernel_37100\\2984762775.py:14: RuntimeWarning: Estimated head radius (11.0 cm) is above the 99th percentile for adult head size. Check if the montage_units argument is correct (the default is \"mm\", but your channel positions may be in different units).\n",
      "  epochs = mne.io.read_epochs_eeglab(f, verbose=False)  # FIR 1-40 Hz\n",
      "C:\\Users\\magna\\AppData\\Local\\Temp\\ipykernel_37100\\2984762775.py:14: RuntimeWarning: Estimated head radius (10.9 cm) is above the 99th percentile for adult head size. Check if the montage_units argument is correct (the default is \"mm\", but your channel positions may be in different units).\n",
      "  epochs = mne.io.read_epochs_eeglab(f, verbose=False)  # FIR 1-40 Hz\n",
      "C:\\Users\\magna\\AppData\\Local\\Temp\\ipykernel_37100\\2984762775.py:14: RuntimeWarning: Estimated head radius (10.9 cm) is above the 99th percentile for adult head size. Check if the montage_units argument is correct (the default is \"mm\", but your channel positions may be in different units).\n",
      "  epochs = mne.io.read_epochs_eeglab(f, verbose=False)  # FIR 1-40 Hz\n",
      "C:\\Users\\magna\\AppData\\Local\\Temp\\ipykernel_37100\\2984762775.py:14: RuntimeWarning: Estimated head radius (10.9 cm) is above the 99th percentile for adult head size. Check if the montage_units argument is correct (the default is \"mm\", but your channel positions may be in different units).\n",
      "  epochs = mne.io.read_epochs_eeglab(f, verbose=False)  # FIR 1-40 Hz\n",
      "C:\\Users\\magna\\AppData\\Local\\Temp\\ipykernel_37100\\2984762775.py:14: RuntimeWarning: Estimated head radius (10.9 cm) is above the 99th percentile for adult head size. Check if the montage_units argument is correct (the default is \"mm\", but your channel positions may be in different units).\n",
      "  epochs = mne.io.read_epochs_eeglab(f, verbose=False)  # FIR 1-40 Hz\n",
      "C:\\Users\\magna\\AppData\\Local\\Temp\\ipykernel_37100\\2984762775.py:14: RuntimeWarning: Estimated head radius (10.9 cm) is above the 99th percentile for adult head size. Check if the montage_units argument is correct (the default is \"mm\", but your channel positions may be in different units).\n",
      "  epochs = mne.io.read_epochs_eeglab(f, verbose=False)  # FIR 1-40 Hz\n",
      "C:\\Users\\magna\\AppData\\Local\\Temp\\ipykernel_37100\\2984762775.py:14: RuntimeWarning: Estimated head radius (10.9 cm) is above the 99th percentile for adult head size. Check if the montage_units argument is correct (the default is \"mm\", but your channel positions may be in different units).\n",
      "  epochs = mne.io.read_epochs_eeglab(f, verbose=False)  # FIR 1-40 Hz\n",
      "C:\\Users\\magna\\AppData\\Local\\Temp\\ipykernel_37100\\2984762775.py:14: RuntimeWarning: Estimated head radius (11.5 cm) is above the 99th percentile for adult head size. Check if the montage_units argument is correct (the default is \"mm\", but your channel positions may be in different units).\n",
      "  epochs = mne.io.read_epochs_eeglab(f, verbose=False)  # FIR 1-40 Hz\n",
      "C:\\Users\\magna\\AppData\\Local\\Temp\\ipykernel_37100\\2984762775.py:14: RuntimeWarning: Estimated head radius (11.5 cm) is above the 99th percentile for adult head size. Check if the montage_units argument is correct (the default is \"mm\", but your channel positions may be in different units).\n",
      "  epochs = mne.io.read_epochs_eeglab(f, verbose=False)  # FIR 1-40 Hz\n",
      "C:\\Users\\magna\\AppData\\Local\\Temp\\ipykernel_37100\\2984762775.py:14: RuntimeWarning: Estimated head radius (11.5 cm) is above the 99th percentile for adult head size. Check if the montage_units argument is correct (the default is \"mm\", but your channel positions may be in different units).\n",
      "  epochs = mne.io.read_epochs_eeglab(f, verbose=False)  # FIR 1-40 Hz\n"
     ]
    },
    {
     "name": "stdout",
     "output_type": "stream",
     "text": [
      "[[[ 4.05646324e-06  3.41330457e-06  2.21555662e-06 ... -6.36318111e-06\n",
      "   -7.79076338e-06 -9.37329674e-06]\n",
      "  [ 1.47290134e-06  2.22631311e-06  2.81610990e-06 ...  1.62757397e-06\n",
      "    1.08076966e-06  1.40111780e-06]\n",
      "  [ 4.74823999e-06  6.29769945e-06  8.19538784e-06 ... -5.18730259e-06\n",
      "   -6.14565420e-06 -5.48567820e-06]\n",
      "  ...\n",
      "  [ 5.48620129e-06  6.22429323e-06  6.87338400e-06 ...  1.02344637e-05\n",
      "    5.05542946e-06 -2.20929933e-06]\n",
      "  [ 4.72543764e-06  7.19984865e-06  8.94462299e-06 ... -4.38330269e-06\n",
      "   -5.24551487e-06 -2.78338504e-06]\n",
      "  [-8.20498392e-08  1.13061392e-06  2.45019054e-06 ...  4.41414452e-06\n",
      "    4.82306480e-06  5.65916300e-06]]\n",
      "\n",
      " [[-1.93647826e-06 -2.86490178e-06 -6.92637396e-06 ... -9.80700016e-06\n",
      "   -1.34782705e-05 -1.46346245e-05]\n",
      "  [ 3.16728473e-06  6.87362134e-07 -2.83826804e-06 ... -4.52848196e-06\n",
      "   -6.58836222e-06 -6.47391891e-06]\n",
      "  [ 2.67064929e-06 -1.36383605e-06 -6.59353352e-06 ... -2.81483722e-06\n",
      "   -6.93589497e-06 -9.15929413e-06]\n",
      "  ...\n",
      "  [ 5.51852989e-06  7.59604645e-06  7.04495144e-06 ... -1.24042225e-05\n",
      "   -1.27276945e-05 -1.00295601e-05]\n",
      "  [ 3.42633796e-06 -2.14604545e-06 -8.21099758e-06 ... -5.31002426e-06\n",
      "   -7.19179058e-06 -6.70530415e-06]\n",
      "  [ 3.79476762e-06  1.22771358e-06 -1.95146215e-06 ... -3.73344111e-06\n",
      "   -4.61500931e-06 -3.69488049e-06]]\n",
      "\n",
      " [[ 9.64645147e-07  3.90505123e-06  7.70090580e-06 ...  7.14726734e-06\n",
      "    2.82300138e-06 -2.35951519e-06]\n",
      "  [ 8.51655424e-07  1.60711086e-06  1.81902921e-06 ...  9.42615986e-07\n",
      "   -1.45831656e-06 -4.12420321e-06]\n",
      "  [-4.60191679e-06 -1.73990774e-06  2.22769475e-06 ...  1.54886425e-06\n",
      "    1.45406261e-07 -1.21864390e-06]\n",
      "  ...\n",
      "  [ 7.44174898e-07  2.97600031e-06  3.63880205e-06 ...  3.36672306e-06\n",
      "    1.96373627e-07 -3.74217796e-06]\n",
      "  [ 1.19075775e-06  3.96011949e-06  5.71297741e-06 ...  7.46461034e-07\n",
      "   -1.59423804e-06 -4.63724899e-06]\n",
      "  [ 1.59746087e-06  2.47314382e-06  2.27137280e-06 ...  2.39679384e-06\n",
      "    2.51198620e-07 -2.42297292e-06]]\n",
      "\n",
      " ...\n",
      "\n",
      " [[ 4.29131985e-07 -1.01463065e-07 -3.32480282e-07 ... -3.57511401e-06\n",
      "   -2.09177303e-06 -1.24849892e-06]\n",
      "  [ 1.56754863e-06  1.85647607e-06  1.91505754e-06 ... -7.37997866e-06\n",
      "   -3.23425245e-06  6.66354179e-07]\n",
      "  [ 6.93686008e-07  4.69271600e-07  1.05809569e-06 ... -1.95459515e-07\n",
      "    1.79168952e-06  1.86699688e-06]\n",
      "  ...\n",
      "  [-5.52512884e-07 -1.34504461e-06 -2.66616631e-06 ...  1.90790224e-06\n",
      "    3.13472486e-06  1.88970244e-06]\n",
      "  [ 5.26765645e-07 -1.47882387e-07 -1.48765445e-06 ... -2.09343290e-06\n",
      "    6.81542516e-07  2.29452085e-06]\n",
      "  [ 1.41450918e-06  9.61076736e-07 -8.47937912e-08 ... -6.32604074e-06\n",
      "   -1.85707653e-06  2.12229896e-06]]\n",
      "\n",
      " [[-1.49216545e-06 -2.70713139e-06 -4.32899570e-06 ... -1.11427009e-06\n",
      "   -8.22573841e-07  3.02465528e-07]\n",
      "  [ 7.63100266e-07 -6.88554347e-07 -2.68170238e-06 ...  3.00980425e-06\n",
      "    3.05173635e-06  2.18701839e-06]\n",
      "  [-2.63365197e-06 -3.44230103e-06 -4.77738953e-06 ...  2.20815158e-06\n",
      "    5.21444321e-07 -1.05003190e-06]\n",
      "  ...\n",
      "  [ 1.73014908e-05  2.14461117e-05  2.41683540e-05 ...  3.74638997e-08\n",
      "   -1.14979196e-06  5.56250691e-07]\n",
      "  [ 7.04677582e-06  7.42868948e-06  5.53491735e-06 ...  5.96701002e-06\n",
      "    4.23105574e-06  2.93922806e-06]\n",
      "  [ 3.44948101e-06  2.07431173e-06  2.65298039e-07 ...  3.85888934e-06\n",
      "    4.35982275e-06  3.79439616e-06]]\n",
      "\n",
      " [[ 1.79990077e-06 -3.44452786e-06 -7.78069592e-06 ...  2.35253501e-06\n",
      "    2.13937092e-06  2.13243365e-06]\n",
      "  [ 1.73150524e-07  7.05244601e-07  1.49189055e-06 ... -1.74620032e-06\n",
      "   -2.32926559e-06 -2.01933193e-06]\n",
      "  [ 4.64254856e-06  5.35495043e-06  5.44940901e-06 ... -2.56280756e-06\n",
      "   -2.89547539e-06 -2.66555357e-06]\n",
      "  ...\n",
      "  [ 1.27806449e-06 -5.43241024e-07 -1.70753598e-06 ...  1.08563817e-06\n",
      "    3.10071516e-06  3.81335163e-06]\n",
      "  [ 6.81370646e-08 -2.93579668e-07 -2.90079832e-07 ...  6.02976465e-06\n",
      "    9.44824505e-06  9.79105091e-06]\n",
      "  [ 9.21541989e-07  1.15122998e-06  1.78016210e-06 ... -2.62715697e-06\n",
      "   -3.47515941e-06 -3.09533668e-06]]]\n",
      "(13410, 61, 500)\n"
     ]
    },
    {
     "name": "stderr",
     "output_type": "stream",
     "text": [
      "C:\\Users\\magna\\AppData\\Local\\Temp\\ipykernel_37100\\2984762775.py:27: FutureWarning: The current default of copy=False will change to copy=True in 1.7. Set the value of copy explicitly to avoid this warning\n",
      "  all_epochs_numpy = all_epochs.get_data()\n"
     ]
    }
   ],
   "source": [
    "import glob\n",
    "import mne\n",
    "import pickle\n",
    "\n",
    "\n",
    "if not glob.glob('./all_epochs.pickle'):\n",
    "    all_epochs = None\n",
    "    p_folders = glob.glob('./dataset_hackathon/P*/')\n",
    "    for p_folder in p_folders:\n",
    "        s_folders = glob.glob(f'{p_folder}S*')\n",
    "        for s_folder in s_folders:\n",
    "            files = glob.glob(f'{s_folder}/eeg/*MAT*.set')\n",
    "            for f in files:\n",
    "                epochs = mne.io.read_epochs_eeglab(f, verbose=False)  # FIR 1-40 Hz\n",
    "                if all_epochs is None:\n",
    "                    all_epochs = epochs.copy()\n",
    "                else:\n",
    "                    all_epochs = mne.concatenate_epochs([all_epochs, epochs.copy()], verbose=False)\n",
    "\n",
    "    with open('all_epochs.pickle', 'wb') as w:\n",
    "        pickle.dump(all_epochs, w)\n",
    "\n",
    "else:\n",
    "    with open('all_epochs.pickle', 'rb') as r:\n",
    "        all_epochs = pickle.load(r)\n",
    "\n",
    "all_epochs_numpy = all_epochs.get_data()\n",
    "print(all_epochs_numpy)\n",
    "print(all_epochs_numpy.shape)\n"
   ]
  },
  {
   "cell_type": "code",
   "execution_count": null,
   "metadata": {},
   "outputs": [],
   "source": [
    "X_data = all_epochs_numpy[:,:,:450]\n",
    "y_data = all_epochs_numpy[:,:,450:]"
   ]
  },
  {
   "cell_type": "code",
   "execution_count": 10,
   "metadata": {},
   "outputs": [],
   "source": [
    "import torch"
   ]
  },
  {
   "cell_type": "code",
   "execution_count": 82,
   "metadata": {},
   "outputs": [],
   "source": [
    "y_data_t = y_data.transpose(2, 0, 1)\n",
    "x_data_t = X_data.transpose(2, 0, 1)"
   ]
  },
  {
   "cell_type": "code",
   "execution_count": 83,
   "metadata": {},
   "outputs": [],
   "source": [
    "x_numeric = torch.tensor(x_data_t, dtype=torch.float32)\n",
    "y_numeric = torch.tensor(y_data_t, dtype=torch.float32)\n",
    "    "
   ]
  },
  {
   "cell_type": "code",
   "execution_count": 84,
   "metadata": {},
   "outputs": [
    {
     "name": "stderr",
     "output_type": "stream",
     "text": [
      "c:\\Users\\magna\\anaconda3\\envs\\mne_lsl\\lib\\site-packages\\torch\\nn\\modules\\transformer.py:307: UserWarning: enable_nested_tensor is True, but self.use_nested_tensor is False because encoder_layer.self_attn.batch_first was not True(use batch_first for better inference performance)\n",
      "  warnings.warn(f\"enable_nested_tensor is True, but self.use_nested_tensor is False because {why_not_sparsity_fast_path}\")\n"
     ]
    }
   ],
   "source": [
    "model = torch.nn.Transformer(d_model=450, nhead=5, batch_first=False)"
   ]
  },
  {
   "cell_type": "code",
   "execution_count": 85,
   "metadata": {},
   "outputs": [
    {
     "ename": "RuntimeError",
     "evalue": "the feature number of src and tgt must be equal to d_model",
     "output_type": "error",
     "traceback": [
      "\u001b[1;31m---------------------------------------------------------------------------\u001b[0m",
      "\u001b[1;31mRuntimeError\u001b[0m                              Traceback (most recent call last)",
      "Cell \u001b[1;32mIn[85], line 1\u001b[0m\n\u001b[1;32m----> 1\u001b[0m \u001b[43mtransformer_model\u001b[49m\u001b[43m(\u001b[49m\u001b[43mx_numeric\u001b[49m\u001b[38;5;241;43m.\u001b[39;49m\u001b[43munsqueeze\u001b[49m\u001b[43m(\u001b[49m\u001b[38;5;241;43m0\u001b[39;49m\u001b[43m)\u001b[49m\u001b[43m,\u001b[49m\u001b[43m \u001b[49m\u001b[43my_numeric\u001b[49m\u001b[38;5;241;43m.\u001b[39;49m\u001b[43munsqueeze\u001b[49m\u001b[43m(\u001b[49m\u001b[38;5;241;43m0\u001b[39;49m\u001b[43m)\u001b[49m\n\u001b[0;32m      2\u001b[0m \u001b[43m                  \u001b[49m\u001b[43m)\u001b[49m\n",
      "File \u001b[1;32mc:\\Users\\magna\\anaconda3\\envs\\mne_lsl\\lib\\site-packages\\torch\\nn\\modules\\module.py:1553\u001b[0m, in \u001b[0;36mModule._wrapped_call_impl\u001b[1;34m(self, *args, **kwargs)\u001b[0m\n\u001b[0;32m   1551\u001b[0m     \u001b[38;5;28;01mreturn\u001b[39;00m \u001b[38;5;28mself\u001b[39m\u001b[38;5;241m.\u001b[39m_compiled_call_impl(\u001b[38;5;241m*\u001b[39margs, \u001b[38;5;241m*\u001b[39m\u001b[38;5;241m*\u001b[39mkwargs)  \u001b[38;5;66;03m# type: ignore[misc]\u001b[39;00m\n\u001b[0;32m   1552\u001b[0m \u001b[38;5;28;01melse\u001b[39;00m:\n\u001b[1;32m-> 1553\u001b[0m     \u001b[38;5;28;01mreturn\u001b[39;00m \u001b[38;5;28mself\u001b[39m\u001b[38;5;241m.\u001b[39m_call_impl(\u001b[38;5;241m*\u001b[39margs, \u001b[38;5;241m*\u001b[39m\u001b[38;5;241m*\u001b[39mkwargs)\n",
      "File \u001b[1;32mc:\\Users\\magna\\anaconda3\\envs\\mne_lsl\\lib\\site-packages\\torch\\nn\\modules\\module.py:1562\u001b[0m, in \u001b[0;36mModule._call_impl\u001b[1;34m(self, *args, **kwargs)\u001b[0m\n\u001b[0;32m   1557\u001b[0m \u001b[38;5;66;03m# If we don't have any hooks, we want to skip the rest of the logic in\u001b[39;00m\n\u001b[0;32m   1558\u001b[0m \u001b[38;5;66;03m# this function, and just call forward.\u001b[39;00m\n\u001b[0;32m   1559\u001b[0m \u001b[38;5;28;01mif\u001b[39;00m \u001b[38;5;129;01mnot\u001b[39;00m (\u001b[38;5;28mself\u001b[39m\u001b[38;5;241m.\u001b[39m_backward_hooks \u001b[38;5;129;01mor\u001b[39;00m \u001b[38;5;28mself\u001b[39m\u001b[38;5;241m.\u001b[39m_backward_pre_hooks \u001b[38;5;129;01mor\u001b[39;00m \u001b[38;5;28mself\u001b[39m\u001b[38;5;241m.\u001b[39m_forward_hooks \u001b[38;5;129;01mor\u001b[39;00m \u001b[38;5;28mself\u001b[39m\u001b[38;5;241m.\u001b[39m_forward_pre_hooks\n\u001b[0;32m   1560\u001b[0m         \u001b[38;5;129;01mor\u001b[39;00m _global_backward_pre_hooks \u001b[38;5;129;01mor\u001b[39;00m _global_backward_hooks\n\u001b[0;32m   1561\u001b[0m         \u001b[38;5;129;01mor\u001b[39;00m _global_forward_hooks \u001b[38;5;129;01mor\u001b[39;00m _global_forward_pre_hooks):\n\u001b[1;32m-> 1562\u001b[0m     \u001b[38;5;28;01mreturn\u001b[39;00m forward_call(\u001b[38;5;241m*\u001b[39margs, \u001b[38;5;241m*\u001b[39m\u001b[38;5;241m*\u001b[39mkwargs)\n\u001b[0;32m   1564\u001b[0m \u001b[38;5;28;01mtry\u001b[39;00m:\n\u001b[0;32m   1565\u001b[0m     result \u001b[38;5;241m=\u001b[39m \u001b[38;5;28;01mNone\u001b[39;00m\n",
      "File \u001b[1;32mc:\\Users\\magna\\anaconda3\\envs\\mne_lsl\\lib\\site-packages\\torch\\nn\\modules\\transformer.py:216\u001b[0m, in \u001b[0;36mTransformer.forward\u001b[1;34m(self, src, tgt, src_mask, tgt_mask, memory_mask, src_key_padding_mask, tgt_key_padding_mask, memory_key_padding_mask, src_is_causal, tgt_is_causal, memory_is_causal)\u001b[0m\n\u001b[0;32m    213\u001b[0m     \u001b[38;5;28;01mraise\u001b[39;00m \u001b[38;5;167;01mRuntimeError\u001b[39;00m(\u001b[38;5;124m\"\u001b[39m\u001b[38;5;124mthe batch number of src and tgt must be equal\u001b[39m\u001b[38;5;124m\"\u001b[39m)\n\u001b[0;32m    215\u001b[0m \u001b[38;5;28;01mif\u001b[39;00m src\u001b[38;5;241m.\u001b[39msize(\u001b[38;5;241m-\u001b[39m\u001b[38;5;241m1\u001b[39m) \u001b[38;5;241m!=\u001b[39m \u001b[38;5;28mself\u001b[39m\u001b[38;5;241m.\u001b[39md_model \u001b[38;5;129;01mor\u001b[39;00m tgt\u001b[38;5;241m.\u001b[39msize(\u001b[38;5;241m-\u001b[39m\u001b[38;5;241m1\u001b[39m) \u001b[38;5;241m!=\u001b[39m \u001b[38;5;28mself\u001b[39m\u001b[38;5;241m.\u001b[39md_model:\n\u001b[1;32m--> 216\u001b[0m     \u001b[38;5;28;01mraise\u001b[39;00m \u001b[38;5;167;01mRuntimeError\u001b[39;00m(\u001b[38;5;124m\"\u001b[39m\u001b[38;5;124mthe feature number of src and tgt must be equal to d_model\u001b[39m\u001b[38;5;124m\"\u001b[39m)\n\u001b[0;32m    218\u001b[0m memory \u001b[38;5;241m=\u001b[39m \u001b[38;5;28mself\u001b[39m\u001b[38;5;241m.\u001b[39mencoder(src, mask\u001b[38;5;241m=\u001b[39msrc_mask, src_key_padding_mask\u001b[38;5;241m=\u001b[39msrc_key_padding_mask,\n\u001b[0;32m    219\u001b[0m                       is_causal\u001b[38;5;241m=\u001b[39msrc_is_causal)\n\u001b[0;32m    220\u001b[0m output \u001b[38;5;241m=\u001b[39m \u001b[38;5;28mself\u001b[39m\u001b[38;5;241m.\u001b[39mdecoder(tgt, memory, tgt_mask\u001b[38;5;241m=\u001b[39mtgt_mask, memory_mask\u001b[38;5;241m=\u001b[39mmemory_mask,\n\u001b[0;32m    221\u001b[0m                       tgt_key_padding_mask\u001b[38;5;241m=\u001b[39mtgt_key_padding_mask,\n\u001b[0;32m    222\u001b[0m                       memory_key_padding_mask\u001b[38;5;241m=\u001b[39mmemory_key_padding_mask,\n\u001b[0;32m    223\u001b[0m                       tgt_is_causal\u001b[38;5;241m=\u001b[39mtgt_is_causal, memory_is_causal\u001b[38;5;241m=\u001b[39mmemory_is_causal)\n",
      "\u001b[1;31mRuntimeError\u001b[0m: the feature number of src and tgt must be equal to d_model"
     ]
    }
   ],
   "source": [
    "transformer_model(x_numeric.unsqueeze(0), y_numeric.unsqueeze(0)\n",
    "                  )"
   ]
  },
  {
   "cell_type": "code",
   "execution_count": 89,
   "metadata": {},
   "outputs": [
    {
     "data": {
      "text/plain": [
       "torch.Size([450, 13410, 61])"
      ]
     },
     "execution_count": 89,
     "metadata": {},
     "output_type": "execute_result"
    }
   ],
   "source": [
    "x_numeric.shape"
   ]
  },
  {
   "cell_type": "code",
   "execution_count": null,
   "metadata": {},
   "outputs": [],
   "source": []
  }
 ],
 "metadata": {
  "kernelspec": {
   "display_name": "mne_lsl",
   "language": "python",
   "name": "python3"
  },
  "language_info": {
   "codemirror_mode": {
    "name": "ipython",
    "version": 3
   },
   "file_extension": ".py",
   "mimetype": "text/x-python",
   "name": "python",
   "nbconvert_exporter": "python",
   "pygments_lexer": "ipython3",
   "version": "3.10.14"
  }
 },
 "nbformat": 4,
 "nbformat_minor": 2
}
