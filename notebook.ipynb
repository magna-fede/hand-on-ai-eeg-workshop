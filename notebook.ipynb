{
 "cells": [
  {
   "cell_type": "code",
   "execution_count": 1,
   "metadata": {},
   "outputs": [
    {
     "name": "stdout",
     "output_type": "stream",
     "text": [
      "(13410, 61, 500)\n"
     ]
    }
   ],
   "source": [
    "import glob\n",
    "import mne\n",
    "import pickle\n",
    "\n",
    "\n",
    "if not glob.glob('./all_epochs.pickle'):\n",
    "    all_epochs = None\n",
    "    p_folders = glob.glob('./dataset_hackathon/P*/')\n",
    "    for p_folder in p_folders:\n",
    "        s_folders = glob.glob(f'{p_folder}S*')\n",
    "        for s_folder in s_folders:\n",
    "            files = glob.glob(f'{s_folder}/eeg/*MAT*.set')\n",
    "            for f in files:\n",
    "                epochs = mne.io.read_epochs_eeglab(f, verbose=False)  # FIR 1-40 Hz\n",
    "                if all_epochs is None:\n",
    "                    all_epochs = epochs.copy()\n",
    "                else:\n",
    "                    all_epochs = mne.concatenate_epochs([all_epochs, epochs.copy()], verbose=False)\n",
    "\n",
    "    with open('all_epochs.pickle', 'wb') as w:\n",
    "        pickle.dump(all_epochs, w)\n",
    "\n",
    "else:\n",
    "    with open('all_epochs.pickle', 'rb') as r:\n",
    "        all_epochs = pickle.load(r)\n",
    "\n",
    "all_epochs_numpy = all_epochs.get_data(copy=True)\n",
    "print(all_epochs_numpy.shape)"
   ]
  },
  {
   "cell_type": "code",
   "execution_count": 2,
   "metadata": {},
   "outputs": [],
   "source": [
    "X_data = all_epochs_numpy[:,:,:450]\n",
    "y_data = all_epochs_numpy[:,:,50:]"
   ]
  },
  {
   "cell_type": "code",
   "execution_count": 3,
   "metadata": {},
   "outputs": [],
   "source": [
    "import torch"
   ]
  },
  {
   "cell_type": "code",
   "execution_count": 4,
   "metadata": {},
   "outputs": [],
   "source": [
    "y_data_t = y_data.transpose(2, 0, 1)\n",
    "x_data_t = X_data.transpose(2, 0, 1)"
   ]
  },
  {
   "cell_type": "code",
   "execution_count": 5,
   "metadata": {},
   "outputs": [
    {
     "name": "stdout",
     "output_type": "stream",
     "text": [
      "(450, 13410, 61)\n",
      "(450, 13410, 61)\n"
     ]
    }
   ],
   "source": [
    "print(x_data_t.shape)\n",
    "print(y_data_t.shape)"
   ]
  },
  {
   "cell_type": "code",
   "execution_count": 6,
   "metadata": {},
   "outputs": [],
   "source": [
    "x_numeric = torch.tensor(x_data_t, dtype=torch.float32)\n",
    "y_numeric = torch.tensor(y_data_t, dtype=torch.float32)"
   ]
  },
  {
   "cell_type": "code",
   "execution_count": 7,
   "metadata": {},
   "outputs": [
    {
     "data": {
      "text/plain": [
       "torch.Size([450, 13410, 61])"
      ]
     },
     "execution_count": 7,
     "metadata": {},
     "output_type": "execute_result"
    }
   ],
   "source": [
    "x_numeric.shape"
   ]
  },
  {
   "cell_type": "code",
   "execution_count": null,
   "metadata": {},
   "outputs": [],
   "source": [
    "model = torch.nn.Transformer(d_model=61, nhead=1, batch_first=False)"
   ]
  },
  {
   "cell_type": "code",
   "execution_count": 9,
   "metadata": {},
   "outputs": [
    {
     "data": {
      "text/plain": [
       "torch.Size([450, 4, 61])"
      ]
     },
     "execution_count": 9,
     "metadata": {},
     "output_type": "execute_result"
    }
   ],
   "source": [
    "out = model(x_numeric[:, :4, :], y_numeric[:, :4, :])\n",
    "out.shape"
   ]
  }
 ],
 "metadata": {
  "kernelspec": {
   "display_name": "mne_lsl",
   "language": "python",
   "name": "python3"
  },
  "language_info": {
   "codemirror_mode": {
    "name": "ipython",
    "version": 3
   },
   "file_extension": ".py",
   "mimetype": "text/x-python",
   "name": "python",
   "nbconvert_exporter": "python",
   "pygments_lexer": "ipython3",
   "version": "3.12.3"
  }
 },
 "nbformat": 4,
 "nbformat_minor": 2
}
